{
 "cells": [
  {
   "cell_type": "code",
   "execution_count": 1,
   "metadata": {},
   "outputs": [],
   "source": [
    "import pandas as pd\n",
    "import numpy as np\n",
    "from sklearn import datasets, linear_model\n",
    "from sklearn.linear_model import LinearRegression\n",
    "import statsmodels.api as sm\n",
    "from scipy import stats\n",
    "import matplotlib.pyplot as plt"
   ]
  },
  {
   "cell_type": "code",
   "execution_count": 6,
   "metadata": {},
   "outputs": [
    {
     "name": "stdout",
     "output_type": "stream",
     "text": [
      "summary()\n",
      "                             OLS Regression Results                            \n",
      "==============================================================================\n",
      "Dep. Variable:                      y   R-squared:                       0.518\n",
      "Model:                            OLS   Adj. R-squared:                  0.507\n",
      "Method:                 Least Squares   F-statistic:                     46.27\n",
      "Date:                Thu, 20 Feb 2020   Prob (F-statistic):           3.83e-62\n",
      "Time:                        10:18:02   Log-Likelihood:                -2386.0\n",
      "No. Observations:                 442   AIC:                             4794.\n",
      "Df Residuals:                     431   BIC:                             4839.\n",
      "Df Model:                          10                                         \n",
      "Covariance Type:            nonrobust                                         \n",
      "==============================================================================\n",
      "                 coef    std err          t      P>|t|      [0.025      0.975]\n",
      "------------------------------------------------------------------------------\n",
      "const        152.1335      2.576     59.061      0.000     147.071     157.196\n",
      "x1           -10.0122     59.749     -0.168      0.867    -127.448     107.424\n",
      "x2          -239.8191     61.222     -3.917      0.000    -360.151    -119.488\n",
      "x3           519.8398     66.534      7.813      0.000     389.069     650.610\n",
      "x4           324.3904     65.422      4.958      0.000     195.805     452.976\n",
      "x5          -792.1842    416.684     -1.901      0.058   -1611.169      26.801\n",
      "x6           476.7458    339.035      1.406      0.160    -189.621    1143.113\n",
      "x7           101.0446    212.533      0.475      0.635    -316.685     518.774\n",
      "x8           177.0642    161.476      1.097      0.273    -140.313     494.442\n",
      "x9           751.2793    171.902      4.370      0.000     413.409    1089.150\n",
      "x10           67.6254     65.984      1.025      0.306     -62.065     197.316\n",
      "==============================================================================\n",
      "Omnibus:                        1.506   Durbin-Watson:                   2.029\n",
      "Prob(Omnibus):                  0.471   Jarque-Bera (JB):                1.404\n",
      "Skew:                           0.017   Prob(JB):                        0.496\n",
      "Kurtosis:                       2.726   Cond. No.                         227.\n",
      "==============================================================================\n",
      "\n",
      "Warnings:\n",
      "[1] Standard Errors assume that the covariance matrix of the errors is correctly specified.\n"
     ]
    }
   ],
   "source": [
    "diabetes = datasets.load_diabetes()\n",
    "X = diabetes.data\n",
    "y = diabetes.target\n",
    "X2 = sm.add_constant(X) \n",
    "est = sm.OLS(y, X2)\n",
    "est2 = est.fit()\n",
    "print(\"summary()\\n\",est2.summary())"
   ]
  },
  {
   "cell_type": "code",
   "execution_count": 7,
   "metadata": {},
   "outputs": [
    {
     "name": "stdout",
     "output_type": "stream",
     "text": [
      "pvalues\n",
      " [1.00967888e-208 8.66999818e-001 1.04142931e-004 4.29955755e-014\n",
      " 1.02381891e-006 5.79473491e-002 1.60389213e-001 6.34720696e-001\n",
      " 2.73455652e-001 1.55602146e-005 3.05998348e-001]\n",
      "tvalues\n",
      " [59.0614273  -0.16757045 -3.91718415  7.81319639  4.9584347  -1.90116324\n",
      "  1.40618676  0.47543095  1.0965381   4.37039381  1.02487222]\n",
      "rsquared\n",
      " 0.5177494254132934\n",
      "rsquared_adj\n",
      " 0.506560316954205\n"
     ]
    }
   ],
   "source": [
    "print(\"pvalues\\n\",est2.pvalues)\n",
    "print(\"tvalues\\n\",est2.tvalues)\n",
    "print(\"rsquared\\n\",est2.rsquared)\n",
    "print(\"rsquared_adj\\n\",est2.rsquared_adj)"
   ]
  },
  {
   "cell_type": "code",
   "execution_count": 3,
   "metadata": {},
   "outputs": [
    {
     "name": "stdout",
     "output_type": "stream",
     "text": [
      "HC0_se\n",
      "HC1_se\n",
      "HC2_se\n",
      "HC3_se\n",
      "aic\n",
      "bic\n",
      "bse\n",
      "centered_tss\n",
      "compare_f_test\n",
      "compare_lm_test\n",
      "compare_lr_test\n",
      "condition_number\n",
      "conf_int\n",
      "conf_int_el\n",
      "cov_HC0\n",
      "cov_HC1\n",
      "cov_HC2\n",
      "cov_HC3\n",
      "cov_kwds\n",
      "cov_params\n",
      "cov_type\n",
      "df_model\n",
      "df_resid\n",
      "diagn\n",
      "eigenvals\n",
      "el_test\n",
      "ess\n",
      "f_pvalue\n",
      "f_test\n",
      "fittedvalues\n",
      "fvalue\n",
      "get_influence\n",
      "get_prediction\n",
      "get_robustcov_results\n",
      "initialize\n",
      "k_constant\n",
      "llf\n",
      "load\n",
      "model\n",
      "mse_model\n",
      "mse_resid\n",
      "mse_total\n",
      "nobs\n",
      "normalized_cov_params\n",
      "outlier_test\n",
      "params\n",
      "predict\n",
      "pvalues\n",
      "remove_data\n",
      "resid\n",
      "resid_pearson\n",
      "rsquared\n",
      "rsquared_adj\n",
      "save\n",
      "scale\n",
      "ssr\n",
      "summary\n",
      "summary2\n",
      "t_test\n",
      "t_test_pairwise\n",
      "tvalues\n",
      "uncentered_tss\n",
      "use_t\n",
      "wald_test\n",
      "wald_test_terms\n",
      "wresid\n"
     ]
    }
   ],
   "source": [
    "#All the attributes \n",
    "for attr in dir(est2):\n",
    "    if not attr.startswith('_'):\n",
    "        print(attr)"
   ]
  },
  {
   "cell_type": "code",
   "execution_count": 4,
   "metadata": {},
   "outputs": [
    {
     "name": "stdout",
     "output_type": "stream",
     "text": [
      "[206.11706979  68.07234761 176.88406035]\n"
     ]
    }
   ],
   "source": [
    "predictions = est2.predict(X2)\n",
    "print(est2.predict(X2[:3,:]))"
   ]
  },
  {
   "cell_type": "code",
   "execution_count": 5,
   "metadata": {},
   "outputs": [
    {
     "name": "stdout",
     "output_type": "stream",
     "text": [
      "r2_score 0.5177494254132934\n"
     ]
    }
   ],
   "source": [
    "from sklearn.metrics import r2_score\n",
    "print(\"r2_score\",r2_score(y,predictions))"
   ]
  },
  {
   "cell_type": "code",
   "execution_count": null,
   "metadata": {},
   "outputs": [],
   "source": []
  }
 ],
 "metadata": {
  "kernelspec": {
   "display_name": "Python 3",
   "language": "python",
   "name": "python3"
  },
  "language_info": {
   "codemirror_mode": {
    "name": "ipython",
    "version": 3
   },
   "file_extension": ".py",
   "mimetype": "text/x-python",
   "name": "python",
   "nbconvert_exporter": "python",
   "pygments_lexer": "ipython3",
   "version": "3.7.4"
  }
 },
 "nbformat": 4,
 "nbformat_minor": 2
}
